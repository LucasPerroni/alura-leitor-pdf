{
  "nbformat": 4,
  "nbformat_minor": 0,
  "metadata": {
    "colab": {
      "provenance": [],
      "collapsed_sections": [
        "UYMbEkcD0dPc",
        "yrLpQdlI2h0M",
        "iRr6f4Ag5uzs"
      ],
      "authorship_tag": "ABX9TyPlaJxfPDeJydxZ0Ee3aNZF",
      "include_colab_link": true
    },
    "kernelspec": {
      "name": "python3",
      "display_name": "Python 3"
    },
    "language_info": {
      "name": "python"
    }
  },
  "cells": [
    {
      "cell_type": "markdown",
      "metadata": {
        "id": "view-in-github",
        "colab_type": "text"
      },
      "source": [
        "<a href=\"https://colab.research.google.com/github/LucasPerroni/alura-leitor-pdf/blob/main/project_imersao_alura.ipynb\" target=\"_parent\"><img src=\"https://colab.research.google.com/assets/colab-badge.svg\" alt=\"Open In Colab\"/></a>"
      ]
    },
    {
      "cell_type": "markdown",
      "source": [
        "# Criar o modelo"
      ],
      "metadata": {
        "id": "UYMbEkcD0dPc"
      }
    },
    {
      "cell_type": "markdown",
      "source": [
        "Instalando o SDK do google"
      ],
      "metadata": {
        "id": "LpkdD0Ur0p5m"
      }
    },
    {
      "cell_type": "code",
      "execution_count": 1,
      "metadata": {
        "id": "qp0e0oKs0Weg"
      },
      "outputs": [],
      "source": [
        "!pip install -q -U google-generativeai"
      ]
    },
    {
      "cell_type": "code",
      "source": [
        "import google.generativeai as genai\n",
        "from google.colab import userdata\n",
        "\n",
        "GOOGLE_API_KEY = userdata.get(\"api_key\")\n",
        "genai.configure(api_key=GOOGLE_API_KEY)"
      ],
      "metadata": {
        "id": "-_QB2QpX0oK0"
      },
      "execution_count": 2,
      "outputs": []
    },
    {
      "cell_type": "markdown",
      "source": [
        "Configurações do modelo"
      ],
      "metadata": {
        "id": "rJ4FpjbG0vHd"
      }
    },
    {
      "cell_type": "code",
      "source": [
        "  generation_config = {\n",
        "      \"candidate_count\": 1,\n",
        "      \"temperature\": 0.5\n",
        "  }"
      ],
      "metadata": {
        "id": "kBr65F840vvz"
      },
      "execution_count": 3,
      "outputs": []
    },
    {
      "cell_type": "markdown",
      "source": [
        "Configurações de segurança"
      ],
      "metadata": {
        "id": "fxP8Lm8B0xNr"
      }
    },
    {
      "cell_type": "code",
      "source": [
        "safety_settings = {\n",
        "    \"HARASSMENT\": \"BLOCK_NONE\",\n",
        "    \"HATE\": \"BLOCK_NONE\",\n",
        "    \"SEXUAL\": \"BLOCK_NONE\",\n",
        "    \"DANGEROUS\": \"BLOCK_NONE\"\n",
        "}"
      ],
      "metadata": {
        "id": "CIl7eum60wmU"
      },
      "execution_count": 4,
      "outputs": []
    },
    {
      "cell_type": "markdown",
      "source": [
        "Inicializando o modelo"
      ],
      "metadata": {
        "id": "L0-NzUAf08O7"
      }
    },
    {
      "cell_type": "code",
      "source": [
        "model = genai.GenerativeModel(model_name=\"gemini-1.0-pro\",\n",
        "                              generation_config=generation_config,\n",
        "                              safety_settings=safety_settings)"
      ],
      "metadata": {
        "id": "1muwC7Xq09ir"
      },
      "execution_count": 5,
      "outputs": []
    },
    {
      "cell_type": "markdown",
      "source": [
        "Criando o primeiro input"
      ],
      "metadata": {
        "id": "gz_tqNFq0_y8"
      }
    },
    {
      "cell_type": "code",
      "source": [
        "response = model.generate_content(\"Diga olá para o mundo!\")\n",
        "print(response.text)"
      ],
      "metadata": {
        "id": "xjFegemd1Ab0",
        "colab": {
          "base_uri": "https://localhost:8080/",
          "height": 34
        },
        "outputId": "ee350d3e-b9a1-4a73-e029-545463ac5c0c"
      },
      "execution_count": 6,
      "outputs": [
        {
          "output_type": "stream",
          "name": "stdout",
          "text": [
            "Olá, mundo!\n"
          ]
        }
      ]
    },
    {
      "cell_type": "markdown",
      "source": [
        "Criar o Chat Bot"
      ],
      "metadata": {
        "id": "Xp0HV40x19kT"
      }
    },
    {
      "cell_type": "code",
      "source": [
        "chat = model.start_chat(history=[])"
      ],
      "metadata": {
        "id": "uarzX3nw1_Yt"
      },
      "execution_count": 7,
      "outputs": []
    },
    {
      "cell_type": "code",
      "source": [
        "# prompt = input(f\"Esperando o prompt: \")\n",
        "\n",
        "# while prompt != \"fim\":\n",
        "#   response = chat.send_message(prompt)\n",
        "#   print(f\"\\033[1;34mResposta:\\033[0m {response.text}\\n\\n\")\n",
        "#   prompt = input(f\"Esperando o prompt: \")"
      ],
      "metadata": {
        "id": "KO3RFliy2AzE"
      },
      "execution_count": null,
      "outputs": []
    },
    {
      "cell_type": "markdown",
      "source": [
        "Histórico do Chat"
      ],
      "metadata": {
        "id": "JmyLiGuk2Dqs"
      }
    },
    {
      "cell_type": "code",
      "source": [
        "# import textwrap\n",
        "# from IPython.display import display, Markdown\n",
        "\n",
        "# def to_markdown(text):\n",
        "#   text = text.replace('•', '  *')\n",
        "#   return Markdown(textwrap.indent(text, '> ', predicate=lambda _: True))\n",
        "\n",
        "# #Imprimindo o histórico\n",
        "# for message in chat.history:\n",
        "#   display(to_markdown(f'**{message.role}**: {message.parts[0].text}'))\n",
        "#   if message.role == \"model\":\n",
        "#     print('------------------------------------------------------------------')"
      ],
      "metadata": {
        "id": "aV4_3skt2EpL"
      },
      "execution_count": null,
      "outputs": []
    },
    {
      "cell_type": "markdown",
      "source": [
        "# Criar objeto do vestibular"
      ],
      "metadata": {
        "id": "yrLpQdlI2h0M"
      }
    },
    {
      "cell_type": "code",
      "source": [
        "!pip install -q -U PyPDF2"
      ],
      "metadata": {
        "id": "XR00NH0O2u-k",
        "colab": {
          "base_uri": "https://localhost:8080/"
        },
        "outputId": "0b66f7c8-6afd-4324-d992-4238ffe45377"
      },
      "execution_count": 8,
      "outputs": [
        {
          "output_type": "stream",
          "name": "stdout",
          "text": [
            "\u001b[?25l     \u001b[90m━━━━━━━━━━━━━━━━━━━━━━━━━━━━━━━━━━━━━━━━\u001b[0m \u001b[32m0.0/232.6 kB\u001b[0m \u001b[31m?\u001b[0m eta \u001b[36m-:--:--\u001b[0m\r\u001b[2K     \u001b[91m━━━━━━━━━━━━\u001b[0m\u001b[90m╺\u001b[0m\u001b[90m━━━━━━━━━━━━━━━━━━━━━━━━━━━\u001b[0m \u001b[32m71.7/232.6 kB\u001b[0m \u001b[31m1.9 MB/s\u001b[0m eta \u001b[36m0:00:01\u001b[0m\r\u001b[2K     \u001b[90m━━━━━━━━━━━━━━━━━━━━━━━━━━━━━━━━━━━━━━━━\u001b[0m \u001b[32m232.6/232.6 kB\u001b[0m \u001b[31m3.7 MB/s\u001b[0m eta \u001b[36m0:00:00\u001b[0m\n",
            "\u001b[?25h"
          ]
        }
      ]
    },
    {
      "cell_type": "markdown",
      "source": [
        "Colocar o caminho para o arquivo pdf do vestibular"
      ],
      "metadata": {
        "id": "GWZCBHJk3EKL"
      }
    },
    {
      "cell_type": "code",
      "source": [
        "pdf_path = \"./vestibular_2019.pdf\""
      ],
      "metadata": {
        "id": "hMSb6w5v3JG9"
      },
      "execution_count": 9,
      "outputs": []
    },
    {
      "cell_type": "markdown",
      "source": [
        "Função para extrair as questões do vestibular"
      ],
      "metadata": {
        "id": "yKOskG0l3QE7"
      }
    },
    {
      "cell_type": "code",
      "source": [
        "import PyPDF2  # Importa a biblioteca PyPDF2 para trabalhar com arquivos PDF.\n",
        "import re  # Importa a biblioteca re para usar expressões regulares.\n",
        "\n",
        "def extract_questions(pdf_path):  # Define uma função chamada extract_questions que recebe o caminho do arquivo PDF como argumento.\n",
        "  \"\"\"\n",
        "  Esta função extrai questões de múltipla escolha de um arquivo PDF.\n",
        "  \"\"\"\n",
        "  pdf_file = open(pdf_path, 'rb')  # Abre o arquivo PDF no modo de leitura binária.\n",
        "  pdf_reader = PyPDF2.PdfReader(pdf_file)  # Cria um objeto PdfReader para ler o conteúdo do PDF.\n",
        "\n",
        "  questions = []  # Inicializa uma lista vazia para armazenar as questões extraídas.\n",
        "  current_question = None  # Inicializa uma variável para armazenar a questão atual que está sendo processada.\n",
        "\n",
        "  skip_paragraph = False\n",
        "  skip_lines = False\n",
        "\n",
        "  for page_num in range(2, len(pdf_reader.pages)):  # Itera sobre as páginas do PDF, começando da página 2 (índice 1).\n",
        "    page = pdf_reader.pages[page_num]  # Obtém o objeto da página atual.\n",
        "    page_text = page.extract_text()  # Extrai o texto da página atual.\n",
        "\n",
        "    lines = page_text.split('\\n')  # Divide o texto da página em linhas.\n",
        "\n",
        "    for line in lines:  # Itera sobre cada linha da página.\n",
        "      match = re.match(r'^(\\*?\\*?)(\\d+) - (.*)', line)  # Verifica se a linha corresponde ao padrão de uma pergunta (ex: \"*1 - Qual a cor do céu?\").\n",
        "\n",
        "      if \"O texto a seguir é referência para a\" in line or \"O excerto a seguir é referência para a\" in line:\n",
        "        skip_paragraph = True\n",
        "        continue\n",
        "      elif skip_paragraph and match:\n",
        "        skip_paragraph = False\n",
        "\n",
        "      if \"INGLÊS\" in line:\n",
        "        skip_lines = False\n",
        "        continue\n",
        "      elif skip_lines or skip_paragraph:\n",
        "        continue\n",
        "\n",
        "      if match:  # Se a linha for uma pergunta:\n",
        "        if current_question:  # Se já existe uma pergunta sendo processada, adiciona ela à lista de questões.\n",
        "          questions.append(current_question)\n",
        "        question_number = match.group(2)  # Extrai o número da pergunta.\n",
        "        first_line = match.group(3).strip()  # Extrai o texto da primeira linha da pergunta.\n",
        "        current_question = {\"number\": question_number, \"text\": first_line, \"options\": [], \"correctOption\": None}  # Cria um dicionário para armazenar as informações da pergunta.\n",
        "      else:  # Se a linha não for uma pergunta:\n",
        "        if current_question:  # Se existe uma pergunta sendo processada:\n",
        "          match = re.match(r'^(\\►)?([a-e])\\)(.*)', line)  # Verifica se a linha corresponde ao padrão de uma opção (ex: \"a) Azul\").\n",
        "          if match:  # Se a linha for uma opção:\n",
        "            is_correct = match.group(1) == \"►\"  # Verifica se a opção é a correta (marcada com \"►\").\n",
        "            option_letter = match.group(2)  # Extrai a letra da opção.\n",
        "            option_text = match.group(3).strip()  # Extrai o texto da opção.\n",
        "\n",
        "            # Verifica se a opção ocupa mais de uma linha:\n",
        "            next_line_index = lines.index(line) + 1\n",
        "            while next_line_index < len(lines) \\\n",
        "              and not (re.match(r'^(\\►)?([a-e])\\)(.*)', lines[next_line_index])\\\n",
        "              or re.match(r'^(\\*?\\*?)(\\d+) - (.*)', lines[next_line_index])):\n",
        "              option_text += \" \" + lines[next_line_index].strip()  # Adiciona o texto da próxima linha à opção.\n",
        "              del lines[next_line_index]  # Remove a linha que foi adicionada à opção.\n",
        "\n",
        "            if is_correct:  # Se a opção for a correta:\n",
        "              current_question[\"correctOption\"] = option_letter  # Armazena a letra da opção correta na pergunta.\n",
        "            current_question[\"options\"].append(option_text)  # Adiciona o texto da opção à lista de opções da pergunta.\n",
        "\n",
        "            if (question_number == \"82\" and option_letter == \"e\") or (question_number == \"90\" and option_letter == \"e\"):\n",
        "              skip_lines = True\n",
        "          else:  # Se a linha não for uma opção:\n",
        "            if line.strip():  # Se a linha não estiver vazia:\n",
        "              current_question[\"text\"] += \" \" + line.strip()  # Adiciona o texto da linha ao texto da pergunta.\n",
        "\n",
        "  if current_question:  # Se ainda existe uma pergunta sendo processada, adiciona ela à lista de questões.\n",
        "    questions.append(current_question)\n",
        "\n",
        "  pdf_file.close()  # Fecha o arquivo PDF.\n",
        "  return questions  # Retorna a lista de questões extraídas.\n"
      ],
      "metadata": {
        "id": "gUc99bSw3VLk"
      },
      "execution_count": 10,
      "outputs": []
    },
    {
      "cell_type": "markdown",
      "source": [
        "Criar o objeto com as questões e converter em JSON"
      ],
      "metadata": {
        "id": "HXJgam6m3cZ1"
      }
    },
    {
      "cell_type": "code",
      "source": [
        "import json\n",
        "\n",
        "questions_data = extract_questions(pdf_path)\n",
        "questions = json.dumps(questions_data)\n",
        "# questions"
      ],
      "metadata": {
        "id": "IJpgamZq3g6j"
      },
      "execution_count": 17,
      "outputs": []
    },
    {
      "cell_type": "markdown",
      "source": [
        "# Utilizar o modelo para estudar o objeto"
      ],
      "metadata": {
        "id": "iRr6f4Ag5uzs"
      }
    },
    {
      "cell_type": "markdown",
      "source": [
        "Função para printar as mensagens melhor"
      ],
      "metadata": {
        "id": "7rwzrZGbEB6O"
      }
    },
    {
      "cell_type": "code",
      "source": [
        "import textwrap\n",
        "from IPython.display import display, Markdown\n",
        "\n",
        "def to_markdown(text):\n",
        "  text = text.replace('•', '  *')\n",
        "  return Markdown(textwrap.indent(text, '> ', predicate=lambda _: True))"
      ],
      "metadata": {
        "id": "k1K_OK3xEBYw"
      },
      "execution_count": 12,
      "outputs": []
    },
    {
      "cell_type": "markdown",
      "source": [
        "Pedindo para o modelo explicar a primeira questão"
      ],
      "metadata": {
        "id": "kRzPcCxDEhoY"
      }
    },
    {
      "cell_type": "code",
      "source": [
        "response = chat.send_message(f\"Você é um professor de cursinho preparatório para o vestibular e eu sou \\\n",
        "um dos seus alunos. Eu vou perguntar pontos sobre questões de vestibular e você vai me ajudar a entendê-los. \\\n",
        "Pontue todos os pontos importantes sobre a questão {questions_data[0]} e explique o motivo da resposta correta.\")\n",
        "\n",
        "for message in chat.history[-1:]:\n",
        "  display(to_markdown(f'**{message.role}**: {message.parts[0].text}'))"
      ],
      "metadata": {
        "id": "sOlp7qcE6K6V",
        "colab": {
          "base_uri": "https://localhost:8080/",
          "height": 376
        },
        "outputId": "61c7447c-6d77-4f6e-b801-3edc7165f03b"
      },
      "execution_count": 15,
      "outputs": [
        {
          "output_type": "display_data",
          "data": {
            "text/plain": [
              "<IPython.core.display.Markdown object>"
            ],
            "text/markdown": "> **model**: **Pontos importantes da questão:**\n> \n> * O preâmbulo da Declaração Universal dos Direitos Humanos menciona \"atos de barbárie\" que ocorreram antes de sua publicação.\n> * A questão pede para identificar os eventos históricos específicos que influenciaram a elaboração da declaração.\n> \n> **Resposta correta: e) Segunda Guerra Mundial e Holocausto.**\n> \n> **Justificativa:**\n> \n> A Segunda Guerra Mundial e o Holocausto foram eventos terríveis que resultaram na morte de milhões de pessoas. Esses eventos demonstraram a necessidade urgente de proteger os direitos humanos e prevenir atrocidades semelhantes no futuro. A Declaração Universal dos Direitos Humanos foi elaborada em resposta a esses eventos e visa garantir que todos os seres humanos tenham direitos e liberdades fundamentais, independentemente de raça, religião, gênero ou qualquer outra distinção.\n> \n> As outras opções estão incorretas porque:\n> \n> * A Guerra Civil Russa e a construção da Cortina de Ferro ocorreram após a publicação da Declaração Universal dos Direitos Humanos.\n> * A Primeira Guerra Mundial e a limpeza étnica na Iugoslávia não foram eventos tão significativos quanto a Segunda Guerra Mundial e o Holocausto em termos de impacto na elaboração da declaração.\n> * A Guerra Civil Espanhola e os ataques terroristas da Al-Qaeda nos Estados Unidos ocorreram após a publicação da Declaração Universal dos Direitos Humanos.\n> * A Guerra Russo-Japonesa e o genocídio dos tutsis em Ruanda também não foram eventos tão significativos quanto a Segunda Guerra Mundial e o Holocausto em termos de impacto na elaboração da declaração."
          },
          "metadata": {}
        }
      ]
    },
    {
      "cell_type": "markdown",
      "source": [
        "Pedir para ele explicar outra questão qualquer"
      ],
      "metadata": {
        "id": "40TMKNF2FNB5"
      }
    },
    {
      "cell_type": "code",
      "source": [
        "response = chat.send_message(f\"Agora me explique da mesma forma a questão {questions_data[64]}.\")\n",
        "\n",
        "for message in chat.history[-1:]:\n",
        "  display(to_markdown(f'**{message.role}**: {message.parts[0].text}'))"
      ],
      "metadata": {
        "colab": {
          "base_uri": "https://localhost:8080/",
          "height": 393
        },
        "id": "OWV3t1r-FQBI",
        "outputId": "de30170c-9dec-4ea3-fc83-71db2af995bf"
      },
      "execution_count": 16,
      "outputs": [
        {
          "output_type": "display_data",
          "data": {
            "text/plain": [
              "<IPython.core.display.Markdown object>"
            ],
            "text/markdown": "> **model**: **Pontos importantes da questão:**\n> \n> * A questão apresenta uma imagem com a divisão regional do Brasil e pede para identificar a alternativa correta sobre a orientação da rosa dos ventos.\n> * A rosa dos ventos é uma convenção que indica os pontos cardeais (norte, sul, leste e oeste).\n> \n> **Resposta correta: a) As indicações de norte “para cima” e sul “para baixo” são convenções e podem ser alteradas.**\n> \n> **Justificativa:**\n> \n> A orientação da rosa dos ventos é uma convenção e pode ser alterada dependendo do contexto. No caso do mapa do Brasil apresentado na questão, a rosa dos ventos está orientada com o norte para cima e o sul para baixo. No entanto, essa orientação poderia ser alterada sem afetar a precisão do mapa. Por exemplo, o mapa poderia ser girado 90 graus no sentido horário, de modo que o norte ficasse para a direita e o sul para a esquerda.\n> \n> As outras opções estão incorretas porque:\n> \n> * A Terra não obedece a um referencial magnético específico que determine que o norte da rosa dos ventos deva sempre apontar para a linha do Equador.\n> * O mapa não precisa ser alterado para que as regiões sejam representadas corretamente. A orientação da rosa dos ventos pode ser alterada sem afetar a precisão do mapa.\n> * O Trópico de Capricórnio não precisa ser substituído pelo Trópico de Câncer. A orientação da rosa dos ventos pode ser alterada sem afetar a precisão do mapa.\n> * A rosa dos ventos pode ser alterada, mesmo que o mapa esteja invertido. A orientação da rosa dos ventos é uma convenção e pode ser alterada dependendo do contexto."
          },
          "metadata": {}
        }
      ]
    },
    {
      "cell_type": "markdown",
      "source": [
        "Limpar histórico"
      ],
      "metadata": {
        "id": "exHPs-7WEolH"
      }
    },
    {
      "cell_type": "code",
      "source": [
        "chat.history = []"
      ],
      "metadata": {
        "id": "RyaiVx7R9PBj"
      },
      "execution_count": 14,
      "outputs": []
    }
  ]
}